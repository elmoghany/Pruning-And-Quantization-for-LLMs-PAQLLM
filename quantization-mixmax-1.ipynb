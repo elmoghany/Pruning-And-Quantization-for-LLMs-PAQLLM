{
 "cells": [
  {
   "cell_type": "code",
   "execution_count": 1,
   "metadata": {},
   "outputs": [
    {
     "name": "stderr",
     "output_type": "stream",
     "text": [
      "c:\\Users\\elmog\\AppData\\Local\\Programs\\Python\\Python311\\Lib\\site-packages\\tqdm\\auto.py:21: TqdmWarning: IProgress not found. Please update jupyter and ipywidgets. See https://ipywidgets.readthedocs.io/en/stable/user_install.html\n",
      "  from .autonotebook import tqdm as notebook_tqdm\n"
     ]
    },
    {
     "name": "stdout",
     "output_type": "stream",
     "text": [
      "cuda\n"
     ]
    }
   ],
   "source": [
    "import numpy as np\n",
    "import random\n",
    "import torch\n",
    "import transformers\n",
    "from transformers import AutoModelForCausalLM\n",
    "from transformers import AutoTokenizer, pipeline\n",
    "import gc\n",
    "import os \n",
    "from torch.ao.quantization import (\n",
    "    QuantStub, \n",
    "    DeQuantStub, \n",
    "    prepare_qat, \n",
    "    convert, \n",
    "    FakeQuantize,\n",
    "    MinMaxObserver,\n",
    "    float_qparams_weight_only_qconfig,\n",
    "    QConfig,\n",
    "    get_default_qat_qconfig, \n",
    "    propagate_qconfig_,\n",
    ")\n",
    "# from torch.ao.quantization.observer import \n",
    "\n",
    "\n",
    "random.seed(0)\n",
    "np.random.seed(0)\n",
    "torch.manual_seed(0)\n",
    "from tqdm import tqdm \n",
    "\n",
    "#GPU\n",
    "device = torch.device('cuda' if torch.cuda.is_available() else 'cpu')\n",
    "print(device)\n",
    "torch.__version__\n",
    "device=\"cpu\"\n",
    "\n",
    "# Empty VRAM cache\n",
    "gc.collect()\n",
    "torch.cuda.empty_cache()\n",
    "\n",
    "model_name = \"models/llama3-8b/\""
   ]
  },
  {
   "cell_type": "code",
   "execution_count": 2,
   "metadata": {},
   "outputs": [
    {
     "name": "stdout",
     "output_type": "stream",
     "text": [
      "Loading model...\n"
     ]
    },
    {
     "name": "stderr",
     "output_type": "stream",
     "text": [
      "Loading checkpoint shards: 100%|██████████| 4/4 [01:20<00:00, 20.23s/it]\n"
     ]
    }
   ],
   "source": [
    "print(\"Loading model...\")\n",
    "model = AutoModelForCausalLM.from_pretrained(model_name,\n",
    "                                            # use_cache = True,\n",
    "                                            torch_dtype=torch.float32\n",
    ")\n",
    "tokenizer = AutoTokenizer.from_pretrained(model_name)\n"
   ]
  },
  {
   "cell_type": "code",
   "execution_count": 3,
   "metadata": {},
   "outputs": [
    {
     "name": "stdout",
     "output_type": "stream",
     "text": [
      "Assigning quantization configuration...\n"
     ]
    }
   ],
   "source": [
    "# Step 2: Define Custom QConfig for 4-bit MinMax Quantization\n",
    "def create_4bit_qconfig_with_embedding():\n",
    "    \"\"\"\n",
    "    Creates a custom QConfig for 4-bit MinMax quantization with special handling for Embedding layers.\n",
    "    \"\"\"\n",
    "    default_qconfig = QConfig(\n",
    "        activation=FakeQuantize.with_args(\n",
    "            observer=MinMaxObserver,\n",
    "            quant_min=0,\n",
    "            quant_max=15,\n",
    "            dtype=torch.quint8,\n",
    "            qscheme=torch.per_tensor_affine,\n",
    "        ),\n",
    "        weight=FakeQuantize.with_args(\n",
    "            observer=MinMaxObserver,\n",
    "            quant_min=-8,\n",
    "            quant_max=7,\n",
    "            dtype=torch.qint8,\n",
    "            qscheme=torch.per_tensor_symmetric,\n",
    "        ),\n",
    "    )\n",
    "\n",
    "    qconfig_dict = {\n",
    "        # Default QConfig for all layers\n",
    "        \"\": default_qconfig,\n",
    "        # Special QConfig for Embedding layers\n",
    "        torch.nn.Embedding: float_qparams_weight_only_qconfig,\n",
    "    }\n",
    "    return qconfig_dict\n",
    "\n",
    "print(\"Assigning quantization configuration...\")\n",
    "model.qconfig = create_4bit_qconfig_with_embedding()"
   ]
  },
  {
   "cell_type": "code",
   "execution_count": null,
   "metadata": {},
   "outputs": [
    {
     "name": "stdout",
     "output_type": "stream",
     "text": [
      "Preparing model for QAT...\n"
     ]
    },
    {
     "name": "stderr",
     "output_type": "stream",
     "text": [
      "c:\\Users\\elmog\\AppData\\Local\\Programs\\Python\\Python311\\Lib\\site-packages\\torch\\ao\\quantization\\observer.py:229: UserWarning: Please use quant_min and quant_max to specify the range for observers.                     reduce_range will be deprecated in a future release of PyTorch.\n",
      "  warnings.warn(\n"
     ]
    },
    {
     "name": "stdout",
     "output_type": "stream",
     "text": [
      "Model prepared for QAT.\n"
     ]
    }
   ],
   "source": [
    "# Step 3: Prepare the Model for Quantization-Aware Training (QAT)\n",
    "print(\"Preparing model for QAT...\")\n",
    "model.train()\n",
    "model.qconfig = get_default_qat_qconfig(\"fbgemm\")\n",
    "try:\n",
    "    propagate_qconfig_(model)\n",
    "except AttributeError as e:\n",
    "    print(\"Error during qconfig propagation. Double-check the qconfig assignment.\", str(e))\n",
    "    raise\n",
    "# Prepare the model for QAT\n",
    "prepared_model = prepare_qat(model, inplace=False)\n",
    "print(\"Model prepared for QAT.\")"
   ]
  },
  {
   "cell_type": "code",
   "execution_count": null,
   "metadata": {},
   "outputs": [
    {
     "name": "stdout",
     "output_type": "stream",
     "text": [
      "Calibrating model...\n"
     ]
    }
   ],
   "source": [
    "# Step 4: Calibrate the Model\n",
    "def calibrate_model(model, tokenizer):\n",
    "    \"\"\"\n",
    "    Feeds representative data into the model to calibrate for quantization.\n",
    "    \"\"\"\n",
    "    if tokenizer.pad_token is None:\n",
    "        tokenizer.pad_token = tokenizer.eos_token  # Reuse EOS token for padding\n",
    "        \n",
    "    model.eval()\n",
    "    num_samples = 1\n",
    "    calibration_texts = [\n",
    "        \"The quick brown fox jumps over the lazy dog.\",\n",
    "        \"Transformers are revolutionizing natural language processing.\"\n",
    "    ] * (num_samples // 2)\n",
    "\n",
    "    print(\"Calibrating model...\")\n",
    "    with torch.no_grad():\n",
    "        for text in tqdm(calibration_texts, desc=\"Calibrating\"):\n",
    "            inputs = tokenizer(text, return_tensors=\"pt\", truncation=True, padding=True)\n",
    "            inputs = {k: v.to(device) for k, v in inputs.items()}\n",
    "            model(**inputs)\n",
    "\n",
    "calibrate_model(prepared_model, tokenizer)"
   ]
  },
  {
   "cell_type": "code",
   "execution_count": 7,
   "metadata": {},
   "outputs": [
    {
     "name": "stdout",
     "output_type": "stream",
     "text": [
      "Converting model to a quantized version...\n"
     ]
    },
    {
     "ename": "",
     "evalue": "",
     "output_type": "error",
     "traceback": [
      "\u001b[1;31mThe Kernel crashed while executing code in the current cell or a previous cell. \n",
      "\u001b[1;31mPlease review the code in the cell(s) to identify a possible cause of the failure. \n",
      "\u001b[1;31mClick <a href='https://aka.ms/vscodeJupyterKernelCrash'>here</a> for more info. \n",
      "\u001b[1;31mView Jupyter <a href='command:jupyter.viewOutput'>log</a> for further details."
     ]
    }
   ],
   "source": [
    "# Step 5: Convert the Model to a Quantized Version\n",
    "print(\"Converting model to a quantized version...\")\n",
    "quantized_model = convert(prepared_model, inplace=False)\n",
    "\n",
    "# Step 6: Save the Quantized Model\n",
    "quantized_model_path = os.path.join(model_name, \"models/llama_quantized_minmax_4bit.pt\")\n",
    "torch.save(quantized_model.state_dict(), quantized_model_path)\n",
    "print(f\"Quantized model saved at: {quantized_model_path}\")\n",
    "print(f\"Quantized model size: {os.path.getsize(quantized_model_path) / 1e9:.2f} KB\")"
   ]
  },
  {
   "cell_type": "code",
   "execution_count": null,
   "metadata": {},
   "outputs": [],
   "source": [
    "# Step 4: Test the quantized model\n",
    "def test_quantized_model(model, tokenizer):\n",
    "    model.eval()\n",
    "    test_text = \"What is the capital of France?\"\n",
    "    inputs = tokenizer(test_text, return_tensors=\"pt\", truncation=True, padding=True)\n",
    "    inputs = {k: v.to(device) for k, v in inputs.items()}\n",
    "\n",
    "    with torch.no_grad():\n",
    "        output = model.generate(**inputs, max_new_tokens=10)\n",
    "    print(\"Quantized model output:\", tokenizer.decode(output[0], skip_special_tokens=True))\n"
   ]
  },
  {
   "cell_type": "code",
   "execution_count": null,
   "metadata": {},
   "outputs": [],
   "source": [
    "print(\"Testing quantized model...\")\n",
    "test_quantized_model(model, tokenizer)\n"
   ]
  }
 ],
 "metadata": {
  "kernelspec": {
   "display_name": "Python 3",
   "language": "python",
   "name": "python3"
  },
  "language_info": {
   "codemirror_mode": {
    "name": "ipython",
    "version": 3
   },
   "file_extension": ".py",
   "mimetype": "text/x-python",
   "name": "python",
   "nbconvert_exporter": "python",
   "pygments_lexer": "ipython3",
   "version": "3.11.0"
  }
 },
 "nbformat": 4,
 "nbformat_minor": 2
}
